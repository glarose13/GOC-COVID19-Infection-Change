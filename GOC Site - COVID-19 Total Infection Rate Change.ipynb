{
 "cells": [
  {
   "cell_type": "code",
   "execution_count": 1,
   "metadata": {},
   "outputs": [],
   "source": [
    "import pandas as pd\n",
    "import numpy as np\n",
    "import requests\n",
    "import matplotlib.pyplot as plt\n",
    "from matplotlib.ticker import MaxNLocator\n",
    "import matplotlib.dates as mdates\n",
    "import time\n",
    "now = time.strftime('%d%m%Y%H%M%S')"
   ]
  },
  {
   "cell_type": "code",
   "execution_count": 2,
   "metadata": {},
   "outputs": [
    {
     "data": {
      "text/html": [
       "<div>\n",
       "<style scoped>\n",
       "    .dataframe tbody tr th:only-of-type {\n",
       "        vertical-align: middle;\n",
       "    }\n",
       "\n",
       "    .dataframe tbody tr th {\n",
       "        vertical-align: top;\n",
       "    }\n",
       "\n",
       "    .dataframe thead th {\n",
       "        text-align: right;\n",
       "    }\n",
       "</style>\n",
       "<table border=\"1\" class=\"dataframe\">\n",
       "  <thead>\n",
       "    <tr style=\"text-align: right;\">\n",
       "      <th></th>\n",
       "      <th>pruid</th>\n",
       "      <th>prname</th>\n",
       "      <th>date</th>\n",
       "      <th>numtotal</th>\n",
       "    </tr>\n",
       "  </thead>\n",
       "  <tbody>\n",
       "    <tr>\n",
       "      <th>0</th>\n",
       "      <td>35</td>\n",
       "      <td>Ontario</td>\n",
       "      <td>31/01/2020</td>\n",
       "      <td>3</td>\n",
       "    </tr>\n",
       "    <tr>\n",
       "      <th>1</th>\n",
       "      <td>59</td>\n",
       "      <td>British Columbia</td>\n",
       "      <td>31/01/2020</td>\n",
       "      <td>1</td>\n",
       "    </tr>\n",
       "    <tr>\n",
       "      <th>2</th>\n",
       "      <td>1</td>\n",
       "      <td>Canada</td>\n",
       "      <td>31/01/2020</td>\n",
       "      <td>4</td>\n",
       "    </tr>\n",
       "    <tr>\n",
       "      <th>3</th>\n",
       "      <td>35</td>\n",
       "      <td>Ontario</td>\n",
       "      <td>08/02/2020</td>\n",
       "      <td>3</td>\n",
       "    </tr>\n",
       "    <tr>\n",
       "      <th>4</th>\n",
       "      <td>59</td>\n",
       "      <td>British Columbia</td>\n",
       "      <td>08/02/2020</td>\n",
       "      <td>4</td>\n",
       "    </tr>\n",
       "  </tbody>\n",
       "</table>\n",
       "</div>"
      ],
      "text/plain": [
       "   pruid            prname        date  numtotal\n",
       "0     35           Ontario  31/01/2020         3\n",
       "1     59  British Columbia  31/01/2020         1\n",
       "2      1            Canada  31/01/2020         4\n",
       "3     35           Ontario  08/02/2020         3\n",
       "4     59  British Columbia  08/02/2020         4"
      ]
     },
     "execution_count": 2,
     "metadata": {},
     "output_type": "execute_result"
    }
   ],
   "source": [
    "# get https://www.canada.ca/en/public-health/services/diseases/2019-novel-coronavirus-infection.html#a1 csv\n",
    "can_covid19 = pd.read_csv('covid19.csv', usecols=['pruid', 'prname', 'date', 'numtotal'])\n",
    "can_covid19.head()"
   ]
  },
  {
   "cell_type": "code",
   "execution_count": 3,
   "metadata": {},
   "outputs": [
    {
     "name": "stdout",
     "output_type": "stream",
     "text": [
      "['Alberta' 'British Columbia' 'Manitoba' 'New Brunswick'\n",
      " 'Newfoundland and Labrador' 'Northwest Territories' 'Nova Scotia'\n",
      " 'Nunavut' 'Ontario' 'Prince Edward Island' 'Quebec'\n",
      " 'Repatriated travellers' 'Saskatchewan' 'Yukon']\n",
      "British Columbia             50\n",
      "Ontario                      50\n",
      "Quebec                       41\n",
      "Alberta                      36\n",
      "Prince Edward Island         34\n",
      "Nova Scotia                  34\n",
      "Newfoundland and Labrador    34\n",
      "Northwest Territories        34\n",
      "Saskatchewan                 34\n",
      "Yukon                        34\n",
      "Nunavut                      34\n",
      "Manitoba                     34\n",
      "New Brunswick                34\n",
      "Repatriated travellers       34\n",
      "Name: prname, dtype: int64\n"
     ]
    }
   ],
   "source": [
    "canada = can_covid19[can_covid19['prname']=='Canada']\n",
    "provs = can_covid19[can_covid19.prname != 'Canada']\n",
    "provs = provs.sort_values('date', ignore_index=True)\n",
    "print(np.unique(provs['prname'].values))\n",
    "print(provs['prname'].value_counts())"
   ]
  },
  {
   "cell_type": "code",
   "execution_count": 4,
   "metadata": {},
   "outputs": [
    {
     "data": {
      "text/plain": [
       "True"
      ]
     },
     "execution_count": 4,
     "metadata": {},
     "output_type": "execute_result"
    }
   ],
   "source": [
    "df_provs = provs\n",
    "df_provs = df_provs.replace(to_replace='Repatriated travellers', value='Repatriated Travellers')\n",
    "len_prname = len(df_provs['prname'].value_counts())\n",
    "len_pruid = len(df_provs['pruid'].value_counts())\n",
    "len_prname == len_pruid"
   ]
  },
  {
   "cell_type": "code",
   "execution_count": 5,
   "metadata": {},
   "outputs": [],
   "source": [
    "# replace column names for simplified plot view\n",
    "df_provs = df_provs.replace({'British Columbia': 'BC', 'Alberta': 'AB', 'Saskatchewan': 'SK', \\\n",
    "                           'Manitoba': 'MB', 'Ontario':'ON', 'Quebec':'QC', 'Newfoundland and Labrador':'NF', \\\n",
    "                           'New Brunswick':'NB', 'Nova Scotia': 'NS', 'Prince Edward Island': 'PE', \\\n",
    "                           'Repatriated Travellers':'RT', 'Yukon': 'YK', 'Northwest Territories' : 'NT', 'Nunavut': 'NU'})"
   ]
  },
  {
   "cell_type": "code",
   "execution_count": 6,
   "metadata": {},
   "outputs": [],
   "source": [
    "# save snapshot\n",
    "df_provs.to_csv('covid19_can'+ now +'.csv')"
   ]
  },
  {
   "cell_type": "code",
   "execution_count": 7,
   "metadata": {},
   "outputs": [
    {
     "data": {
      "text/html": [
       "<div>\n",
       "<style scoped>\n",
       "    .dataframe tbody tr th:only-of-type {\n",
       "        vertical-align: middle;\n",
       "    }\n",
       "\n",
       "    .dataframe tbody tr th {\n",
       "        vertical-align: top;\n",
       "    }\n",
       "\n",
       "    .dataframe thead th {\n",
       "        text-align: right;\n",
       "    }\n",
       "</style>\n",
       "<table border=\"1\" class=\"dataframe\">\n",
       "  <thead>\n",
       "    <tr style=\"text-align: right;\">\n",
       "      <th></th>\n",
       "      <th>pruid</th>\n",
       "      <th>prname</th>\n",
       "      <th>date</th>\n",
       "      <th>numtotal</th>\n",
       "    </tr>\n",
       "  </thead>\n",
       "  <tbody>\n",
       "    <tr>\n",
       "      <th>0</th>\n",
       "      <td>35</td>\n",
       "      <td>ON</td>\n",
       "      <td>01/03/2020</td>\n",
       "      <td>15</td>\n",
       "    </tr>\n",
       "    <tr>\n",
       "      <th>1</th>\n",
       "      <td>24</td>\n",
       "      <td>QC</td>\n",
       "      <td>01/03/2020</td>\n",
       "      <td>1</td>\n",
       "    </tr>\n",
       "    <tr>\n",
       "      <th>2</th>\n",
       "      <td>59</td>\n",
       "      <td>BC</td>\n",
       "      <td>01/03/2020</td>\n",
       "      <td>8</td>\n",
       "    </tr>\n",
       "    <tr>\n",
       "      <th>3</th>\n",
       "      <td>48</td>\n",
       "      <td>AB</td>\n",
       "      <td>01/04/2020</td>\n",
       "      <td>754</td>\n",
       "    </tr>\n",
       "    <tr>\n",
       "      <th>4</th>\n",
       "      <td>99</td>\n",
       "      <td>RT</td>\n",
       "      <td>01/04/2020</td>\n",
       "      <td>13</td>\n",
       "    </tr>\n",
       "  </tbody>\n",
       "</table>\n",
       "</div>"
      ],
      "text/plain": [
       "   pruid prname        date  numtotal\n",
       "0     35     ON  01/03/2020        15\n",
       "1     24     QC  01/03/2020         1\n",
       "2     59     BC  01/03/2020         8\n",
       "3     48     AB  01/04/2020       754\n",
       "4     99     RT  01/04/2020        13"
      ]
     },
     "execution_count": 7,
     "metadata": {},
     "output_type": "execute_result"
    }
   ],
   "source": [
    "df_provs.head()"
   ]
  },
  {
   "cell_type": "code",
   "execution_count": 8,
   "metadata": {},
   "outputs": [],
   "source": [
    "can_totals = canada[-25:]\n",
    "can_totals = can_totals.reset_index(level=0, drop=True)\n",
    "can_totals['date'] = pd.to_datetime(can_totals['date'], format='%d/%m/%Y')"
   ]
  },
  {
   "cell_type": "code",
   "execution_count": 9,
   "metadata": {},
   "outputs": [],
   "source": [
    "can_totals = can_totals.drop(columns=['pruid', 'prname'])"
   ]
  },
  {
   "cell_type": "code",
   "execution_count": 10,
   "metadata": {},
   "outputs": [
    {
     "name": "stdout",
     "output_type": "stream",
     "text": [
      "2020-04-13T00:00:00.000000000\n"
     ]
    }
   ],
   "source": [
    "ca_counts = can_totals['numtotal'].values\n",
    "ca_dates = can_totals['date'].values\n",
    "print(ca_dates[-1])"
   ]
  },
  {
   "cell_type": "code",
   "execution_count": 11,
   "metadata": {},
   "outputs": [
    {
     "data": {
      "image/png": "[encoded data removed]",
      "text/plain": [
       "<Figure size 432x288 with 1 Axes>"
      ]
     },
     "metadata": {
      "needs_background": "light"
     },
     "output_type": "display_data"
    }
   ],
   "source": [
    "# canada totals line chart from March 2020\n",
    "ylim_num = ca_counts[-1]\n",
    "fig, ax = plt.subplots()  # Create a figure containing a single axes.\n",
    "\n",
    "#xfmt = mdates.DateFormatter('%d/%m/%y')\n",
    "xfmt = mdates.DateFormatter('%d/%m')\n",
    "ax.xaxis.set_major_formatter(xfmt)\n",
    "\n",
    "locator = MaxNLocator(nbins=28) # with 14 bins you will have 13 ticks\n",
    "ax.xaxis.set_major_locator(locator)\n",
    "\n",
    "plt.xticks(rotation=90, va='top', ha='left', fontsize=10)\n",
    "ax.grid(color='grey', linestyle='-', linewidth=0.2)\n",
    "ax.plot(ca_dates, ca_counts, color='red')  # Plot some data on the axes.\n",
    "\n",
    "ax.annotate(str(ca_counts[-1]),xy=(ca_dates[-1],ca_counts[-1]), horizontalalignment='right', verticalalignment='bottom', clip_on=True)\n",
    "ax.annotate(str(ca_counts[-2]),xy=(ca_dates[-2],ca_counts[-2]), horizontalalignment='right', verticalalignment='bottom', clip_on=True)\n",
    "ax.annotate(str(ca_counts[-3]),xy=(ca_dates[-3],ca_counts[-3]), horizontalalignment='right', verticalalignment='bottom', clip_on=True)\n",
    "ax.annotate(str(ca_counts[-4]),xy=(ca_dates[-4],ca_counts[-4]), horizontalalignment='right', verticalalignment='bottom', clip_on=True)\n",
    "ax.annotate(str(ca_counts[-5]),xy=(ca_dates[-5],ca_counts[-5]), horizontalalignment='right', verticalalignment='bottom', clip_on=True)\n",
    "\n",
    "from matplotlib.offsetbox import AnchoredText\n",
    "at = AnchoredText('Total Cases: ' + str(ca_counts[-1]),\n",
    "                  prop=dict(size=10), frameon=True,\n",
    "                  loc='upper center',\n",
    "                  )\n",
    "at.patch.set_boxstyle(\"round,pad=0.,rounding_size=0.2\")\n",
    "ax.add_artist(at)\n",
    "\n",
    "\n",
    "plt.ylim(0, ylim_num+1500)\n",
    "plt.title('COVID-19 Canada')\n",
    "#plt.legend(loc='upper center')\n",
    "plt.savefig('GOC_can_covid-19.png')\n",
    "plt.show()"
   ]
  },
  {
   "cell_type": "code",
   "execution_count": 12,
   "metadata": {},
   "outputs": [],
   "source": [
    "can_chg = can_totals"
   ]
  },
  {
   "cell_type": "code",
   "execution_count": 13,
   "metadata": {},
   "outputs": [],
   "source": [
    "can_chg['pct_chg'] = round(can_chg['numtotal'].pct_change(fill_method='ffill')*100,1)\n",
    "can_chg = can_chg[-23:]"
   ]
  },
  {
   "cell_type": "code",
   "execution_count": 14,
   "metadata": {},
   "outputs": [
    {
     "data": {
      "text/plain": [
       "1065"
      ]
     },
     "execution_count": 14,
     "metadata": {},
     "output_type": "execute_result"
    }
   ],
   "source": [
    "can_pctchg = can_chg['pct_chg'].values\n",
    "can_pctdates = can_chg['date'].values\n",
    "can_chg_numtotal = can_chg['numtotal'].values\n",
    "can_chg_numtotal[-2] - can_chg_numtotal[-3]"
   ]
  },
  {
   "cell_type": "code",
   "execution_count": 15,
   "metadata": {},
   "outputs": [
    {
     "data": {
      "text/plain": [
       "'5.9'"
      ]
     },
     "execution_count": 15,
     "metadata": {},
     "output_type": "execute_result"
    }
   ],
   "source": [
    "ca_perc_ave = round(can_pctchg.sum() / len(can_pctchg),1)\n",
    "ca_7day_ave = round(can_pctchg[-7:].sum() / len(can_pctchg[-7:]),1)\n",
    "ca_5day_ave = round(can_pctchg[-5:].sum() / len(can_pctchg[-5:]),1)\n",
    "ca_std = round(can_pctchg[-7:].std(),1)\n",
    "str(ca_5day_ave)"
   ]
  },
  {
   "cell_type": "code",
   "execution_count": 16,
   "metadata": {},
   "outputs": [
    {
     "data": {
      "image/png": "[encoded data removed]",
      "text/plain": [
       "<Figure size 432x288 with 1 Axes>"
      ]
     },
     "metadata": {
      "needs_background": "light"
     },
     "output_type": "display_data"
    }
   ],
   "source": [
    "fig, ax = plt.subplots()  # Create a figure containing a single axes.\n",
    "\n",
    "#xfmt = mdates.DateFormatter('%d/%m/%y')\n",
    "xfmt = mdates.DateFormatter('%d/%m')\n",
    "ax.xaxis.set_major_formatter(xfmt)\n",
    "\n",
    "locator = MaxNLocator(nbins=30) # with 14 bins you will have 13 ticks\n",
    "ax.xaxis.set_major_locator(locator)\n",
    "\n",
    "plt.xticks(rotation=90, va='top', ha='left', fontsize=10)\n",
    "ax.grid(color='grey', linestyle='-', linewidth=0.2)\n",
    "ax.plot(can_pctdates, can_pctchg, color='red')  # Plot some data on the axes.\n",
    "\n",
    "ax.annotate(str(can_pctchg[-1]),xy=(can_pctdates[-1],can_pctchg[-1]), horizontalalignment='center', verticalalignment='bottom', rotation=-45, fontsize=9)\n",
    "ax.annotate(str(can_pctchg[-2]),xy=(can_pctdates[-2],can_pctchg[-2]), horizontalalignment='center', verticalalignment='bottom', rotation=-45, fontsize=9)\n",
    "ax.annotate(str(can_pctchg[-3]),xy=(can_pctdates[-3],can_pctchg[-3]), horizontalalignment='center', verticalalignment='bottom', rotation=-45, fontsize=9)\n",
    "ax.annotate(str(can_pctchg[-4]),xy=(can_pctdates[-4],can_pctchg[-4]), horizontalalignment='center', verticalalignment='bottom', rotation=-45, fontsize=9)\n",
    "ax.annotate(str(can_pctchg[-5]),xy=(can_pctdates[-5],can_pctchg[-5]), horizontalalignment='center', verticalalignment='bottom', rotation=-45, fontsize=9)\n",
    "ax.annotate(str(can_pctchg[-6]),xy=(can_pctdates[-6],can_pctchg[-6]), horizontalalignment='center', verticalalignment='bottom', rotation=-45, fontsize=9)\n",
    "ax.annotate(str(can_pctchg[-7]),xy=(can_pctdates[-7],can_pctchg[-7]), horizontalalignment='center', verticalalignment='bottom', rotation=-45, fontsize=9)\n",
    "\n",
    "from matplotlib.offsetbox import AnchoredText\n",
    "at = AnchoredText('Current Ave \\nDaily Change: ' + str(ca_perc_ave)+'%',\n",
    "                  prop=dict(size=10), frameon=True,\n",
    "                  loc='upper center',\n",
    "                  )\n",
    "at.patch.set_boxstyle(\"round,pad=0.,rounding_size=0.2\")\n",
    "ax.add_artist(at)\n",
    "\n",
    "at = AnchoredText('7 day \\nstdev \\n' + str(ca_std),\n",
    "                  prop=dict(size=10), frameon=True,\n",
    "                  loc='upper left',\n",
    "                  )\n",
    "at.patch.set_boxstyle(\"round,pad=0.,rounding_size=0.2\")\n",
    "ax.add_artist(at)\n",
    "\n",
    "at = AnchoredText('7 Day Moving\\n   Ave ' + str(ca_7day_ave) +\"%\",\n",
    "                  prop=dict(size=10), frameon=True,\n",
    "                  loc='upper right',\n",
    "                  )\n",
    "at.patch.set_boxstyle(\"round,pad=0.,rounding_size=0.2\")\n",
    "ax.add_artist(at)\n",
    "\n",
    "at = AnchoredText('5 Day Moving\\n   Ave ' + str(ca_5day_ave) +\"%\",\n",
    "                  prop=dict(size=10), frameon=True,\n",
    "                  loc='center right',\n",
    "                  )\n",
    "at.patch.set_boxstyle(\"round,pad=0.,rounding_size=0.2\")\n",
    "ax.add_artist(at)\n",
    "\n",
    "plt.ylim(0, 80)\n",
    "plt.title('Government of Canada COVID-19 \\n Canada Total Infection Rate Change %')\n",
    "plt.savefig('GOC_Canada_covid-19_pct_change.png')\n",
    "plt.show()"
   ]
  },
  {
   "cell_type": "code",
   "execution_count": 17,
   "metadata": {},
   "outputs": [
    {
     "data": {
      "text/plain": [
       "array([7.4, 7.8, 7.7, 6.7, 5.3, 4.6, 5.3])"
      ]
     },
     "execution_count": 17,
     "metadata": {},
     "output_type": "execute_result"
    }
   ],
   "source": [
    "can_pctchg[-7:]"
   ]
  },
  {
   "cell_type": "code",
   "execution_count": null,
   "metadata": {},
   "outputs": [],
   "source": []
  }
 ],
 "metadata": {
  "kernelspec": {
   "display_name": "Python (base)",
   "language": "python",
   "name": "python3"
  },
  "language_info": {
   "codemirror_mode": {
    "name": "ipython",
    "version": 3
   },
   "file_extension": ".py",
   "mimetype": "text/x-python",
   "name": "python",
   "nbconvert_exporter": "python",
   "pygments_lexer": "ipython3",
   "version": "3.7.6"
  }
 },
 "nbformat": 4,
 "nbformat_minor": 4
}
